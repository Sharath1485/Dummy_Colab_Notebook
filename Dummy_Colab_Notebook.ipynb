{
  "nbformat": 4,
  "nbformat_minor": 0,
  "metadata": {
    "colab": {
      "name": "Untitled1.ipynb",
      "provenance": [],
      "authorship_tag": "ABX9TyM7r5itdWEcW7oM6HhFld/d",
      "include_colab_link": true
    },
    "kernelspec": {
      "name": "python3",
      "display_name": "Python 3"
    }
  },
  "cells": [
    {
      "cell_type": "markdown",
      "metadata": {
        "id": "view-in-github",
        "colab_type": "text"
      },
      "source": [
        "<a href=\"https://colab.research.google.com/github/Sharath1485/Dummy_Colab_Notebook/blob/main/Dummy_Colab_Notebook.ipynb\" target=\"_parent\"><img src=\"https://colab.research.google.com/assets/colab-badge.svg\" alt=\"Open In Colab\"/></a>"
      ]
    },
    {
      "cell_type": "code",
      "metadata": {
        "id": "H077djdRu2Qm",
        "colab": {
          "base_uri": "https://localhost:8080/"
        },
        "outputId": "ff713f94-b2af-4d55-cbfe-b342b99c124e"
      },
      "source": [
        "pi = 3.14\r\n",
        "r = 2.0\r\n",
        "area = pi *(r**2)\r\n",
        "perim = 2.0*pi*r\r\n",
        "print (\"Given r: \", r)\r\n",
        "print (\" Area is: \", area)\r\n",
        "print (\" Perimeter is: \", perim)"
      ],
      "execution_count": 1,
      "outputs": [
        {
          "output_type": "stream",
          "text": [
            "Given r:  2.0\n",
            " Area is:  12.56\n",
            " Perimeter is:  12.56\n"
          ],
          "name": "stdout"
        }
      ]
    }
  ]
}
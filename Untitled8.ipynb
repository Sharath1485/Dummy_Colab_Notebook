{
  "nbformat": 4,
  "nbformat_minor": 0,
  "metadata": {
    "colab": {
      "name": "Untitled8.ipynb",
      "provenance": [],
      "collapsed_sections": [],
      "authorship_tag": "ABX9TyPYVISVY7+1Y0UizS76azb1",
      "include_colab_link": true
    },
    "kernelspec": {
      "name": "python3",
      "display_name": "Python 3"
    }
  },
  "cells": [
    {
      "cell_type": "markdown",
      "metadata": {
        "id": "view-in-github",
        "colab_type": "text"
      },
      "source": [
        "<a href=\"https://colab.research.google.com/github/Sharath1485/Dummy_Colab_Notebook/blob/main/Untitled8.ipynb\" target=\"_parent\"><img src=\"https://colab.research.google.com/assets/colab-badge.svg\" alt=\"Open In Colab\"/></a>"
      ]
    },
    {
      "cell_type": "code",
      "metadata": {
        "id": "0aWV8yy-6v7i"
      },
      "source": [
        "#Name:- Sharath Kumar mandalapu\r\n",
        "#Created- March 11, 2021\r\n",
        "#Python version - 3.8.8\r\n",
        "#Classifying Data - We will be wrting a function that takes temperature as parameter and based on some defined condition define the temperature into four categories, Hot,warm,cool,cold\r\n",
        "\r\n",
        "\r\n",
        "#using if else statement to classify data\r\n",
        "\r\n",
        "def feelTemp(temp):\r\n",
        "\tif(temp>=100):\r\n",
        "\t\treturn \"It is hot.\"\r\n",
        "\telif(temp>=70 and temp<100):\r\n",
        "\t\treturn \"It is warm.\"\r\n",
        "\telif(temp>=30 and temp<70):\r\n",
        "\t\treturn \"It is cool.\"\r\n",
        "\telse:\r\n",
        "\t\treturn \"It is cold\"\r\n",
        "\r\n",
        "\r\n",
        "#taking input and passing the input value to above defined function\r\n",
        "\r\n",
        "temp = input(\"Enter Temperature: \")\r\n",
        "print(feelTemp(int(temp)))"
      ],
      "execution_count": null,
      "outputs": []
    },
    {
      "cell_type": "code",
      "metadata": {
        "id": "RoC991aZ7hO9"
      },
      "source": [
        "#Name:- Sharath Kumar Mandalapu\r\n",
        "#Created- March 11, 2021\r\n",
        "#Python version - 3.8.8\r\n",
        "#First Chat bot. \r\n",
        "\r\n",
        "\r\n",
        "\r\n",
        "#sending greetings and prompt for user name\r\n",
        "print(\"Hi, What`s your name?.\")\r\n",
        "#taking input and storing it to name variable\r\n",
        "name=input()\r\n",
        "#addressing above name and asking for age.\r\n",
        "print(\"Hi \"+name+\". How Old are you?\")\r\n",
        "#taking input age and storing it in variable\r\n",
        "age=int(input())\r\n",
        "#calculating age+10 and showing the result in console\r\n",
        "print(name+\", in ten years from now you`ll will be \",age+10)"
      ],
      "execution_count": null,
      "outputs": []
    }
  ]
}